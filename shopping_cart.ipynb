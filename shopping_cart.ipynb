{
 "cells": [
  {
   "cell_type": "code",
   "execution_count": null,
   "id": "6a00edfb",
   "metadata": {},
   "outputs": [],
   "source": [
    "print(\"SHOPPING CART:\")\n",
    "lst=[]\n",
    "while(True):\n",
    "    choice= input(\"What would you like to do?  Add item: [a], Delete item: [d] See current shopping list: [s] Quit: [q]\")\n",
    "    if(choice== \"a\"):\n",
    "        item=input(\"Enter the item you want to add: \")\n",
    "        lst.append(item)\n",
    "    elif(choice== \"d\"):\n",
    "        item=input(\"Enter the item you want to delete: \")\n",
    "        lst.remove(item)\n",
    "    elif(choice== \"s\"):\n",
    "        print(\"Current shopping list: \",lst)\n",
    "    elif(choice== \"q\"):\n",
    "        print(\"Here's your shopping list: \",lst)\n",
    "        print(\"Have a good day!\")\n",
    "        break\n",
    "    else:\n",
    "        print(\"INVALID INPUT\")"
   ]
  }
 ],
 "metadata": {
  "kernelspec": {
   "display_name": "Python 3 (ipykernel)",
   "language": "python",
   "name": "python3"
  },
  "language_info": {
   "codemirror_mode": {
    "name": "ipython",
    "version": 3
   },
   "file_extension": ".py",
   "mimetype": "text/x-python",
   "name": "python",
   "nbconvert_exporter": "python",
   "pygments_lexer": "ipython3",
   "version": "3.9.13"
  }
 },
 "nbformat": 4,
 "nbformat_minor": 5
}
